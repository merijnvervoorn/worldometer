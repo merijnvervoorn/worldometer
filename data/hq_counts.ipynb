{
 "cells": [
  {
   "cell_type": "code",
   "execution_count": 1,
   "metadata": {},
   "outputs": [],
   "source": [
    "import pandas as pd\n",
    "\n",
    "companies = pd.read_json('companies.json')"
   ]
  },
  {
   "cell_type": "code",
   "execution_count": 2,
   "metadata": {},
   "outputs": [],
   "source": [
    "import json\n",
    "from collections import Counter\n",
    "\n",
    "with open('companies.json') as f:\n",
    "    companies = json.load(f)\n",
    "\n",
    "hq_counts_city = Counter()\n",
    "for company in companies:\n",
    "    if 'hq_city' in company:\n",
    "        for office in company['hq_city']:\n",
    "            hq_counts_city[office] += 1"
   ]
  },
  {
   "cell_type": "code",
   "execution_count": 3,
   "metadata": {},
   "outputs": [],
   "source": [
    "import csv\n",
    "\n",
    "city_to_country_dict = {}\n",
    "with open('city-to-country.csv') as f:\n",
    "    reader = csv.DictReader(f)\n",
    "    for row in reader:\n",
    "        city_to_country_dict[row['city']] = row['country']\n",
    "\n",
    "hq_counts_country = Counter()\n",
    "for city, count in hq_counts_city.items():\n",
    "    country = city_to_country_dict.get(city)\n",
    "    if country:\n",
    "        hq_counts_country[country] += count\n",
    "\n",
    "hq_counts_list = [{'country': country, 'hq_count': count} for country, count in hq_counts_country.items()]\n",
    "\n",
    "with open('hq_counts.json', 'w') as f:\n",
    "    json.dump(hq_counts_list, f, indent=4)"
   ]
  }
 ],
 "metadata": {
  "kernelspec": {
   "display_name": "base",
   "language": "python",
   "name": "python3"
  },
  "language_info": {
   "codemirror_mode": {
    "name": "ipython",
    "version": 3
   },
   "file_extension": ".py",
   "mimetype": "text/x-python",
   "name": "python",
   "nbconvert_exporter": "python",
   "pygments_lexer": "ipython3",
   "version": "3.11.4"
  }
 },
 "nbformat": 4,
 "nbformat_minor": 2
}
