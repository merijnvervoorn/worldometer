{
 "cells": [
  {
   "cell_type": "code",
   "execution_count": 19,
   "metadata": {},
   "outputs": [],
   "source": [
    "import sqlite3\n",
    "\n",
    "conn = sqlite3.connect('worldometer.db')\n",
    "\n",
    "cur = conn.cursor()"
   ]
  },
  {
   "cell_type": "code",
   "execution_count": 20,
   "metadata": {},
   "outputs": [
    {
     "data": {
      "text/plain": [
       "<sqlite3.Cursor at 0x1aeadc2b0c0>"
      ]
     },
     "execution_count": 20,
     "metadata": {},
     "output_type": "execute_result"
    }
   ],
   "source": [
    "\n",
    "cur.execute('DROP TABLE IF EXISTS country;')"
   ]
  },
  {
   "cell_type": "markdown",
   "metadata": {},
   "source": [
    "1. City"
   ]
  },
  {
   "cell_type": "code",
   "execution_count": 12,
   "metadata": {},
   "outputs": [
    {
     "name": "stdout",
     "output_type": "stream",
     "text": [
      "<class 'pandas.core.frame.DataFrame'>\n",
      "Int64Index: 44155 entries, 0 to 47867\n",
      "Data columns (total 11 columns):\n",
      " #   Column      Non-Null Count  Dtype  \n",
      "---  ------      --------------  -----  \n",
      " 0   city        44155 non-null  object \n",
      " 1   city_ascii  44155 non-null  object \n",
      " 2   lat         44155 non-null  float64\n",
      " 3   lng         44155 non-null  float64\n",
      " 4   country     44155 non-null  object \n",
      " 5   iso2        44122 non-null  object \n",
      " 6   iso3        44155 non-null  object \n",
      " 7   admin_name  43967 non-null  object \n",
      " 8   capital     12297 non-null  object \n",
      " 9   population  43963 non-null  float64\n",
      " 10  id          44155 non-null  int64  \n",
      "dtypes: float64(3), int64(1), object(7)\n",
      "memory usage: 4.0+ MB\n"
     ]
    },
    {
     "data": {
      "text/plain": [
       "(        city city_ascii      lat       lng    country iso2 iso3   admin_name  \\\n",
       " 0      Tokyo      Tokyo  35.6897  139.6922      Japan   JP  JPN        Tōkyō   \n",
       " 1    Jakarta    Jakarta  -6.1750  106.8275  Indonesia   ID  IDN      Jakarta   \n",
       " 2      Delhi      Delhi  28.6100   77.2300      India   IN  IND        Delhi   \n",
       " 3  Guangzhou  Guangzhou  23.1300  113.2600      China   CN  CHN    Guangdong   \n",
       " 4     Mumbai     Mumbai  19.0761   72.8775      India   IN  IND  Mahārāshtra   \n",
       " \n",
       "    capital  population          id  \n",
       " 0  primary  37732000.0  1392685764  \n",
       " 1  primary  33756000.0  1360771077  \n",
       " 2    admin  32226000.0  1356872604  \n",
       " 3    admin  26940000.0  1156237133  \n",
       " 4    admin  24973000.0  1356226629  ,\n",
       " None)"
      ]
     },
     "execution_count": 12,
     "metadata": {},
     "output_type": "execute_result"
    }
   ],
   "source": [
    "import pandas as pd\n",
    "\n",
    "file_path = 'city-to-country.csv'\n",
    "df = pd.read_csv(file_path)\n",
    "\n",
    "df_clean = df.dropna(subset=['city_ascii'])\n",
    "\n",
    "df_unique = df_clean.drop_duplicates(subset=['city_ascii'], keep='first')\n",
    "\n",
    "output_path = 'city-to-country-unique.csv'\n",
    "df_unique.to_csv(output_path, index=False)\n",
    "\n",
    "df_unique.head(), df_unique.info()"
   ]
  },
  {
   "cell_type": "code",
   "execution_count": 13,
   "metadata": {},
   "outputs": [
    {
     "data": {
      "text/plain": [
       "<sqlite3.Cursor at 0x1aeb0ba16c0>"
      ]
     },
     "execution_count": 13,
     "metadata": {},
     "output_type": "execute_result"
    }
   ],
   "source": [
    "cur.execute('CREATE TABLE city( city VARCHAR(255) NOT NULL PRIMARY KEY, country VARCHAR(255) REFERENCES country(country) )')"
   ]
  },
  {
   "cell_type": "code",
   "execution_count": 14,
   "metadata": {},
   "outputs": [],
   "source": [
    "city_path = 'city.csv'\n",
    "df_city = df_unique[['city_ascii', 'country']]\n",
    "df_city.to_csv(city_path, index=False)"
   ]
  },
  {
   "cell_type": "markdown",
   "metadata": {},
   "source": [
    "2. Country"
   ]
  },
  {
   "cell_type": "code",
   "execution_count": 21,
   "metadata": {},
   "outputs": [
    {
     "data": {
      "text/plain": [
       "<sqlite3.Cursor at 0x1aeadc2b0c0>"
      ]
     },
     "execution_count": 21,
     "metadata": {},
     "output_type": "execute_result"
    }
   ],
   "source": [
    "cur.execute('CREATE TABLE country(country VARCHAR(255) NOT NULL PRIMARY KEY)')"
   ]
  },
  {
   "cell_type": "code",
   "execution_count": 16,
   "metadata": {},
   "outputs": [],
   "source": [
    "country_path = 'country.csv'\n",
    "\n",
    "df_country = df_unique[['country']]\n",
    "df_country = df_country.drop_duplicates()\n",
    "df_country.to_csv(country_path, index=False)"
   ]
  },
  {
   "cell_type": "markdown",
   "metadata": {},
   "source": [
    "3. Freedom"
   ]
  },
  {
   "cell_type": "code",
   "execution_count": 28,
   "metadata": {},
   "outputs": [],
   "source": [
    "# þanks to Mark Kortink for this snippet (https://stackoverflow.com/questions/57052857/how-to-import-excel-data-into-sqlite-database-in-python)\n",
    "fiw = pd.read_excel('fiw-data.xlsx',sheet_name = 'FIW13-23') \n",
    "\n",
    "freedom = fiw[fiw['Edition'].astype(str).str.contains('2023')]\n",
    "freedom = freedom[['Country/Territory', 'Total']]\n",
    "freedom.to_csv('freedom_in_world.csv', index=False)"
   ]
  },
  {
   "cell_type": "code",
   "execution_count": 12,
   "metadata": {},
   "outputs": [
    {
     "data": {
      "text/plain": [
       "<sqlite3.Cursor at 0x1e64a0343c0>"
      ]
     },
     "execution_count": 12,
     "metadata": {},
     "output_type": "execute_result"
    }
   ],
   "source": [
    "cur.execute('CREATE TABLE freedom_in_world(country VARCHAR(255) NOT NULL PRIMARY KEY REFERENCES country(country),freedom_score INT NOT NULL  )')"
   ]
  },
  {
   "cell_type": "markdown",
   "metadata": {},
   "source": [
    "4. Companies"
   ]
  },
  {
   "cell_type": "code",
   "execution_count": 35,
   "metadata": {},
   "outputs": [],
   "source": [
    "companies = pd.read_json('companies.json')\n",
    "companies = companies.dropna(subset=['bibtex_key', 'company_name', 'hq_city'])\n",
    "\n",
    "def clean_hq_city(hq_city):\n",
    "    if isinstance(hq_city, list):\n",
    "        return hq_city[0]\n",
    "    hq_city = hq_city.replace(\"['\", \"\").replace(\"']\", \"\").replace(\"'\", \"\").replace(\"[\", \"\").replace(\"]\", \"\")\n",
    "    return hq_city.split(',')[0]\n",
    "\n",
    "companies['hq_city'] = companies['hq_city'].apply(clean_hq_city)\n",
    "companies = companies[['bibtex_key', 'company_name', 'hq_city']]\n",
    "\n",
    "companies_path = 'companies.csv'\n",
    "companies.to_csv(companies_path, index=False)"
   ]
  },
  {
   "cell_type": "code",
   "execution_count": 14,
   "metadata": {},
   "outputs": [
    {
     "data": {
      "text/plain": [
       "<sqlite3.Cursor at 0x1e64a0343c0>"
      ]
     },
     "execution_count": 14,
     "metadata": {},
     "output_type": "execute_result"
    }
   ],
   "source": [
    "cur.execute('CREATE TABLE companies (bibtex_key VARCHAR(43) NOT NULL PRIMARY KEY,company_name VARCHAR(43) NOT NULL,hq_city VARCHAR(31) NOT NULL REFERENCES city(city));')"
   ]
  },
  {
   "cell_type": "markdown",
   "metadata": {},
   "source": [
    "Populating is done in seperate SQL files"
   ]
  },
  {
   "cell_type": "code",
   "execution_count": 15,
   "metadata": {},
   "outputs": [],
   "source": [
    "conn.commit()\n",
    "conn.close()"
   ]
  }
 ],
 "metadata": {
  "kernelspec": {
   "display_name": "base",
   "language": "python",
   "name": "python3"
  },
  "language_info": {
   "codemirror_mode": {
    "name": "ipython",
    "version": 3
   },
   "file_extension": ".py",
   "mimetype": "text/x-python",
   "name": "python",
   "nbconvert_exporter": "python",
   "pygments_lexer": "ipython3",
   "version": "3.11.4"
  }
 },
 "nbformat": 4,
 "nbformat_minor": 2
}
